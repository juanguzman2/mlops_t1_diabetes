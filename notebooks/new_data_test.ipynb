{
 "cells": [
  {
   "cell_type": "code",
   "execution_count": 22,
   "metadata": {},
   "outputs": [
    {
     "name": "stdout",
     "output_type": "stream",
     "text": [
      "Predicciones: [0 1 1 1 0 1 0 1 1 1 1 0 1 0 0 1 1 0 0 0 0 1 0 1 1 1 0 1 1 1 1 0 1 1 0 1 1\n",
      " 0 1 1 1 0 0 1 1 1 1 1 0 0 0 0]\n",
      "Precisión del modelo: 0.9807692307692307\n",
      "Reporte de clasificación:\n",
      "              precision    recall  f1-score   support\n",
      "\n",
      "           0       0.95      1.00      0.98        20\n",
      "           1       1.00      0.97      0.98        32\n",
      "\n",
      "    accuracy                           0.98        52\n",
      "   macro avg       0.98      0.98      0.98        52\n",
      "weighted avg       0.98      0.98      0.98        52\n",
      "\n"
     ]
    },
    {
     "name": "stderr",
     "output_type": "stream",
     "text": [
      "c:\\Users\\Juan Guzman\\anaconda3\\envs\\datapath_ml\\lib\\site-packages\\sklearn\\base.py:493: UserWarning: X does not have valid feature names, but RandomForestClassifier was fitted with feature names\n",
      "  warnings.warn(\n"
     ]
    }
   ],
   "source": [
    "# Importación de librerías necesarias\n",
    "import pandas as pd\n",
    "import joblib\n",
    "from sklearn.preprocessing import MinMaxScaler, LabelEncoder\n",
    "from sklearn.pipeline import Pipeline\n",
    "from sklearn.metrics import accuracy_score, classification_report\n",
    "\n",
    "# Cargar los datos de entrenamiento y prueba\n",
    "X_train = pd.read_csv(r'D:\\Desktop\\t1_intro_ml\\riesgo_diabetes\\data\\processed\\X_train.csv')\n",
    "y_train = pd.read_csv(r'D:\\Desktop\\t1_intro_ml\\riesgo_diabetes\\data\\processed\\y_train.csv')\n",
    "X_test = pd.read_csv(r'D:\\Desktop\\t1_intro_ml\\riesgo_diabetes\\data\\processed\\X_test.csv')\n",
    "y_test = pd.read_csv(r'D:\\Desktop\\t1_intro_ml\\riesgo_diabetes\\data\\processed\\y_test.csv')\n",
    "\n",
    "# Cargar las características seleccionadas desde el archivo CSV\n",
    "selected_features = pd.read_csv(r'D:\\Desktop\\t1_intro_ml\\riesgo_diabetes\\data\\processed\\selected_features.csv').squeeze().tolist()\n",
    "\n",
    "# Cargar el modelo entrenado desde el archivo .joblib\n",
    "model = joblib.load(r'D:\\Desktop\\t1_intro_ml\\riesgo_diabetes\\models\\best_random_forest_model.joblib')\n",
    "\n",
    "# Definir las variables categóricas\n",
    "CATEGORICAL_VARS = ['Gender', 'Polyuria', 'Polydipsia', 'sudden weight loss', \n",
    "                    'Genital thrush', 'Itching', 'Irritability', 'delayed healing', \n",
    "                    'partial paresis', 'Alopecia']\n",
    "\n",
    "# Utilizar LabelEncoder para codificar las variables categóricas\n",
    "le = LabelEncoder()\n",
    "\n",
    "for var in CATEGORICAL_VARS:\n",
    "    if var in X_train.columns:\n",
    "        X_train[var] = le.fit_transform(X_train[var].astype(str))\n",
    "        X_test[var] = le.transform(X_test[var].astype(str))\n",
    "    else:\n",
    "        print(f\"Advertencia: la variable {var} no está presente en los datos.\")\n",
    "\n",
    "# Filtrar solo las características seleccionadas que estén presentes en los datos\n",
    "selected_features_present = [feat for feat in selected_features if feat in X_train.columns]\n",
    "\n",
    "# Filtrar las características seleccionadas que están presentes\n",
    "X_train_selected = X_train[selected_features_present]\n",
    "X_test_selected = X_test[selected_features_present]\n",
    "\n",
    "# Definir el pipeline de preprocesamiento sin DropFeatures\n",
    "pipeline = Pipeline([\n",
    "\n",
    "    # ===== ESCALADO =====\n",
    "    # Escalar la variable Age\n",
    "    ('scaler', MinMaxScaler())\n",
    "])\n",
    "\n",
    "# Ajustar el pipeline en los datos de entrenamiento (sin DropFeatures)\n",
    "pipeline.fit(X_train_selected)\n",
    "\n",
    "# Transformar los datos de prueba\n",
    "X_test_transformed = pipeline.transform(X_test_selected)\n",
    "\n",
    "# Realizar las predicciones con el modelo cargado\n",
    "predictions = model.predict(X_test_transformed)\n",
    "\n",
    "# Mostrar las predicciones\n",
    "print(\"Predicciones:\", predictions)\n",
    "\n",
    "# Evaluar las predicciones\n",
    "accuracy = accuracy_score(y_test, predictions)\n",
    "print(f\"Precisión del modelo: {accuracy}\")\n",
    "\n",
    "# Reporte de clasificación\n",
    "report = classification_report(y_test, predictions)\n",
    "print(f\"Reporte de clasificación:\\n{report}\")\n"
   ]
  }
 ],
 "metadata": {
  "kernelspec": {
   "display_name": "datapath_ml",
   "language": "python",
   "name": "python3"
  },
  "language_info": {
   "codemirror_mode": {
    "name": "ipython",
    "version": 3
   },
   "file_extension": ".py",
   "mimetype": "text/x-python",
   "name": "python",
   "nbconvert_exporter": "python",
   "pygments_lexer": "ipython3",
   "version": "3.9.19"
  }
 },
 "nbformat": 4,
 "nbformat_minor": 2
}
